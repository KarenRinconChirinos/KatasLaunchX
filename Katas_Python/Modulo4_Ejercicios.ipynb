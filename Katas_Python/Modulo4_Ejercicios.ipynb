{
 "cells": [
  {
   "cell_type": "markdown",
   "metadata": {},
   "source": [
    "## Ejercicio 1: Transformar cadenas\n"
   ]
  },
  {
   "cell_type": "code",
   "execution_count": 46,
   "metadata": {},
   "outputs": [],
   "source": [
    "text = \"\"\"Interesting facts about the Moon. The Moon is Earth's only satellite. There are several interesting facts about the Moon and how it affects life here on Earth. \n",
    "On average, the Moon moves 4cm away from the Earth every year. This yearly drift is not significant enough to cause immediate effects on Earth. The highest daylight temperature of the Moon is 127 C.\"\"\""
   ]
  },
  {
   "cell_type": "markdown",
   "metadata": {},
   "source": [
    "Primero, divide el texto en cada oración para trabajar con su contenido:"
   ]
  },
  {
   "cell_type": "code",
   "execution_count": 14,
   "metadata": {},
   "outputs": [
    {
     "name": "stdout",
     "output_type": "stream",
     "text": [
      "Interesting facts about the Moon. The Moon is Earth's only satellite. There are several interesting facts about the Moon and how it affects life here on Earth. \n",
      "On average, the Moon moves 4cm away from the Earth every year. This yearly drift is not significant enough to cause immediate effects on Earth. The highest daylight temperature of the Moon is 127 C.\n"
     ]
    }
   ],
   "source": [
    "text.split(' ')\n",
    "print(text)"
   ]
  },
  {
   "cell_type": "markdown",
   "metadata": {},
   "source": [
    "Ahora, define algunas palabras clave para búsqueda que te ayudarán a determinar si una oración contiene un hecho."
   ]
  },
  {
   "cell_type": "code",
   "execution_count": 97,
   "metadata": {},
   "outputs": [
    {
     "name": "stdout",
     "output_type": "stream",
     "text": [
      "La palabra average se repite 164  veces\n",
      "La palabra temperature se repite 326  veces\n",
      "La palabra distance se repite -1  veces\n"
     ]
    }
   ],
   "source": [
    "a = text.find(\"average\")\n",
    "t= text.find(\"temperature\")\n",
    "d = text.find(\"distance\")\n",
    "print(\"La palabra average se repite {}  veces\".format(a))\n",
    "print(\"La palabra temperature se repite {}  veces\".format(t))\n",
    "print(\"La palabra distance se repite {}  veces\".format(d))"
   ]
  },
  {
   "cell_type": "markdown",
   "metadata": {},
   "source": [
    "Crea un bucle para imprimir solo datos sobre la Luna que estén relacionados con las palabras clave definidas anteriormente:"
   ]
  },
  {
   "cell_type": "code",
   "execution_count": 136,
   "metadata": {},
   "outputs": [
    {
     "name": "stdout",
     "output_type": "stream",
     "text": [
      "LA PALABRA AVERAGE:\n",
      " \n",
      "On average, the Moon moves 4cm away from the Earth every year\n",
      "LA PALABRA TEMPERATURE:\n",
      " The highest daylight temperature of the Moon is 127 C\n"
     ]
    }
   ],
   "source": [
    "texto_buscar=text.split('.')\n",
    "num = len(texto_buscar)\n",
    "for i in range(num):\n",
    "    texto_buscar_1=texto_buscar[i].split(' ')\n",
    "    num1 = len(texto_buscar_1)\n",
    "    for j in range(num1):\n",
    "        if  texto_buscar_1[j] == 'Moon' :\n",
    "            for k in range(num1):\n",
    "                if  texto_buscar_1[k] == 'average' or texto_buscar_1[k] == 'average,' or texto_buscar_1[k] == 'average.':  \n",
    "                    print(\"LA PALABRA AVERAGE:\")\n",
    "                    print(' '.join(texto_buscar_1))\n",
    "                elif  texto_buscar_1[k] == 'temperature' or texto_buscar_1[k] == 'temperature,' or texto_buscar_1[k] == 'temperature.':\n",
    "                    print(\"LA PALABRA TEMPERATURE:\")\n",
    "                    print(' '.join(texto_buscar_1))\n",
    "                elif  texto_buscar_1[k] == 'distance' or texto_buscar_1[k] == 'distance,':\n",
    "                    print(\"LA PALABRA DISTANCE:\")\n",
    "                    print(' '.join(texto_buscar_1))"
   ]
  },
  {
   "cell_type": "markdown",
   "metadata": {},
   "source": [
    "Finalmente, actualiza el bucle(ciclo) para cambiar C a Celsius:"
   ]
  },
  {
   "cell_type": "code",
   "execution_count": 137,
   "metadata": {},
   "outputs": [
    {
     "name": "stdout",
     "output_type": "stream",
     "text": [
      "longitud de la cadena es de: 62\n",
      "Interesting facts about the Moon. The Moon is Earth's only satellite. There are several interesting facts about the Moon and how it affects life here on Earth. \n",
      "On average, the Moon moves 4cm away from the Earth every year. This yearly drift is not significant enough to cause immediate effects on Earth. The highest daylight temperature of the Moon is 127 Celsius.\n"
     ]
    }
   ],
   "source": [
    "num = len(text_seprado)\n",
    "print(\"longitud de la cadena es de: {}\".format(num))\n",
    "#Se separa la cadena en cada espacio\n",
    "text_seprado=text.split(' ')\n",
    "i=0\n",
    "#Se crea un for que pasa por cada cadena el arreglo y verifica que sea C o C.\n",
    "for i in range(num):\n",
    "    #print(text_seprado[i])\n",
    "    if  text_seprado[i] == \"C\" :\n",
    "        text_seprado[i] = 'Celsius'\n",
    "    else:\n",
    "        if  text_seprado[i] == 'C.':\n",
    "            text_seprado[i] = 'Celsius.'\n",
    "texto_unido = ' '.join(text_seprado)\n",
    "print(texto_unido)"
   ]
  },
  {
   "cell_type": "markdown",
   "metadata": {},
   "source": [
    "## Formateando Cadenas\n",
    "Saber cómo dar formato a las cadenas es esencial cuando se presenta información de un programa. Hay algunas maneras diferentes de lograr esto en Python. En este ejercicio, se utilizan variables que contienen datos clave sobre la gravedad en varias lunas y luego se utilizan para dar formato e imprimir la información.\n",
    "\n",
    "El formato tiene que acomodar información sobre otras lunas, por lo que debe ser genérico."
   ]
  },
  {
   "cell_type": "code",
   "execution_count": 142,
   "metadata": {},
   "outputs": [],
   "source": [
    "# Datos con los que vas a trabajar\n",
    "planeta = 'Marte '\n",
    "gravedad  = 0.00143\n",
    "nombre = 'Ganímedes'"
   ]
  },
  {
   "cell_type": "markdown",
   "metadata": {},
   "source": [
    "Primero, crea un título para el texto. Debido a que este texto trata sobre la gravedad en la Tierra y la Luna, úsalo para crear un título significativo. Utiliza las variables en lugar de escribir."
   ]
  },
  {
   "cell_type": "code",
   "execution_count": 140,
   "metadata": {},
   "outputs": [
    {
     "data": {
      "text/plain": [
       "'The Gravity Of The Moon And Earth'"
      ]
     },
     "execution_count": 140,
     "metadata": {},
     "output_type": "execute_result"
    }
   ],
   "source": [
    "Titulo  = f'Datos interesantes de la gravedad sobre  la {nombre}'\n",
    "Titulo.title()"
   ]
  },
  {
   "cell_type": "markdown",
   "metadata": {},
   "source": [
    "Ahora crea una plantilla de cadena multilínea para contener el resto de la información. En lugar de usar kilómetros, debes convertir la distancia a metros multiplicando por 1,000."
   ]
  },
  {
   "cell_type": "code",
   "execution_count": 148,
   "metadata": {},
   "outputs": [
    {
     "name": "stdout",
     "output_type": "stream",
     "text": [
      "-------------------------------------------------------------------------------- \n",
      "Nombre del planeta: Marte  \n",
      "-------------------------------------------------------------------------------- \n",
      "Gravedad en Ganímedes: 1.4300000000000002 m/^2 \n",
      "-------------------------------------------------------------------------------- \n",
      "\n"
     ]
    }
   ],
   "source": [
    "plantilla = f\"\"\"{'-'*80} \n",
    "Nombre del planeta: {planeta} \n",
    "{'-'*80} \n",
    "Gravedad en {nombre}: {gravedad * 1000} m/s^2 \n",
    "{'-'*80} \n",
    "\"\"\"\n",
    "print(plantilla)"
   ]
  },
  {
   "cell_type": "markdown",
   "metadata": {},
   "source": [
    "Finalmente, usa ambas variables para unir el título y los hechos.\n"
   ]
  },
  {
   "cell_type": "code",
   "execution_count": 149,
   "metadata": {},
   "outputs": [
    {
     "name": "stdout",
     "output_type": "stream",
     "text": [
      "The Gravity Of The Moon And Earth \n",
      "-------------------------------------------------------------------------------- \n",
      "Nombre del planeta: Marte  \n",
      "-------------------------------------------------------------------------------- \n",
      "Gravedad en Ganímedes: 1.4300000000000002 m/^2 \n",
      "-------------------------------------------------------------------------------- \n",
      " \n",
      "\n"
     ]
    }
   ],
   "source": [
    "union = f\"\"\"{Titulo.title()} \n",
    "{plantilla} \n",
    "\"\"\" \n",
    "print(union)"
   ]
  },
  {
   "cell_type": "markdown",
   "metadata": {},
   "source": [
    "La salida no muestra información sobre Marte. Todavía muestra información sobre la Luna. Esto sucede porque las cadenas f están ansiosas en su evaluación, por lo que las variables una vez asignadas no se pueden reasignar. Para evitar este problema, vuelva a hacer la plantilla para utilizar .format():"
   ]
  },
  {
   "cell_type": "code",
   "execution_count": 155,
   "metadata": {},
   "outputs": [
    {
     "name": "stdout",
     "output_type": "stream",
     "text": [
      "\n",
      "Datos de Gravedad sobre: Luna\n",
      "-------------------------------------------------------------------------------\n",
      "Nombre del planeta: Tierra\n",
      "Gravedad en Luna: 1 m/s2\n",
      "\n"
     ]
    }
   ],
   "source": [
    "nueva = \"\"\"\n",
    "Datos de Gravedad sobre: {nombre}\n",
    "-------------------------------------------------------------------------------\n",
    "Nombre del planeta: {planeta}\n",
    "Gravedad en {nombre}: {gravedad} m/s2\n",
    "\"\"\"\n",
    "p=nueva.format(nombre='Luna',planeta='Tierra',gravedad = 1)\n",
    "print(p)\n"
   ]
  }
 ],
 "metadata": {
  "interpreter": {
   "hash": "67756c1d511ae706fcde9f70d2b76031d1082b5230beae8b442915152b300555"
  },
  "kernelspec": {
   "display_name": "Python 3.10.2 64-bit",
   "language": "python",
   "name": "python3"
  },
  "language_info": {
   "codemirror_mode": {
    "name": "ipython",
    "version": 3
   },
   "file_extension": ".py",
   "mimetype": "text/x-python",
   "name": "python",
   "nbconvert_exporter": "python",
   "pygments_lexer": "ipython3",
   "version": "3.10.2"
  },
  "orig_nbformat": 4
 },
 "nbformat": 4,
 "nbformat_minor": 2
}
