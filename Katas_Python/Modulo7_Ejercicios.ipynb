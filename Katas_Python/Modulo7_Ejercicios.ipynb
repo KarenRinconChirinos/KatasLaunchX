{
 "cells": [
  {
   "cell_type": "markdown",
   "metadata": {},
   "source": [
    "## Ejercicio 1: Creación de un bucle \"while\"\n",
    "Uso de ciclos while en Python"
   ]
  },
  {
   "cell_type": "markdown",
   "metadata": {},
   "source": [
    "Comienza agregando dos variables, una para la entrada del usuario, con el nombre new_planet, y otra variable para la lista de planetas, denominada planets."
   ]
  },
  {
   "cell_type": "code",
   "execution_count": 20,
   "metadata": {},
   "outputs": [],
   "source": [
    "new_planet = ''\n",
    "planet = []"
   ]
  },
  {
   "cell_type": "markdown",
   "metadata": {},
   "source": [
    "Comenzando con las variables que acabas de crear, crearás un ciclo while. El ciclo while se ejecutará mientras el new_planet no sea igual a la palabra 'done'.\n",
    "\n",
    "Dentro del ciclo, comprobarás si la variable new_planet contiene un valor, que debería ser el nombre de un planeta. Esta es una forma rápida de ver si el usuario ha introducido un valor. Si lo han hecho, tu código agregará (append) ese valor a la variable planets.\n",
    "\n",
    "Finalmente, usarás input para solicitar al usuario que ingrese un nuevo nombre de planeta o que escriba done si ha terminado de ingresar nombres de planeta. Almacenará el valor de input en la variable new_planet."
   ]
  },
  {
   "cell_type": "code",
   "execution_count": 21,
   "metadata": {},
   "outputs": [
    {
     "name": "stdout",
     "output_type": "stream",
     "text": [
      "La lista actualizada es ['Venus']\n",
      "La lista actualizada es ['Venus', 'Tierra']\n",
      "La lista actualizada es ['Venus', 'Tierra', 'Saturno']\n",
      "La lista actualizada es ['Venus', 'Tierra', 'Saturno', 'Tierra']\n",
      "La lista actualizada es ['Venus', 'Tierra', 'Saturno', 'Tierra', 'done']\n",
      "La lista actualizada es ['Venus', 'Tierra', 'Saturno', 'Tierra', 'done']\n"
     ]
    }
   ],
   "source": [
    "while new_planet != 'done' :\n",
    "    new_planet = input('Ingresa un nuevo nombre de planeta o escribe done si la terinado de ingresar nombres de planetas')\n",
    "    if new_planet != '':\n",
    "        planet.append(new_planet)\n",
    "    print(\"La lista actualizada es\",planet)\n",
    "print(\"La lista actualizada es\",planet)"
   ]
  },
  {
   "cell_type": "markdown",
   "metadata": {},
   "source": [
    "## Ejercicio 2: Creación de un ciclo \"for\"\n",
    "Ciclo para una lista\n",
    "En este ejercicio, completarás la aplicación escribiendo código que muestre los nombres de esos planetas.\n",
    "\n"
   ]
  },
  {
   "cell_type": "code",
   "execution_count": 22,
   "metadata": {},
   "outputs": [
    {
     "name": "stdout",
     "output_type": "stream",
     "text": [
      "Lista de los planetas ['Venus', 'Tierra', 'Saturno', 'Tierra', 'done']\n"
     ]
    }
   ],
   "source": [
    "print(\"Lista de los planetas\",planet)"
   ]
  },
  {
   "cell_type": "markdown",
   "metadata": {},
   "source": [
    "\n",
    "La variable planets almacena los nombres de planeta que ha introducido un usuario. Ahora usarás un ciclo para mostrar esas entradas.\n",
    "\n",
    "Crea un ciclo for para iterar sobre la lista planets. Puedes usar como nombre de la variable planet para cada planeta. Dentro del ciclo for, recuerda utilizar print para mostrar cada planet."
   ]
  },
  {
   "cell_type": "code",
   "execution_count": 28,
   "metadata": {},
   "outputs": [
    {
     "name": "stdout",
     "output_type": "stream",
     "text": [
      "Venus\n",
      "Tierra\n",
      "Saturno\n",
      "Tierra\n",
      "done\n"
     ]
    }
   ],
   "source": [
    "for i in range(0, len(planet)):\n",
    "    print(str(planet[i]))"
   ]
  }
 ],
 "metadata": {
  "interpreter": {
   "hash": "67756c1d511ae706fcde9f70d2b76031d1082b5230beae8b442915152b300555"
  },
  "kernelspec": {
   "display_name": "Python 3.10.2 64-bit",
   "language": "python",
   "name": "python3"
  },
  "language_info": {
   "codemirror_mode": {
    "name": "ipython",
    "version": 3
   },
   "file_extension": ".py",
   "mimetype": "text/x-python",
   "name": "python",
   "nbconvert_exporter": "python",
   "pygments_lexer": "ipython3",
   "version": "3.10.2"
  },
  "orig_nbformat": 4
 },
 "nbformat": 4,
 "nbformat_minor": 2
}
