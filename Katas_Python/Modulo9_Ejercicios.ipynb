{
 "cells": [
  {
   "cell_type": "markdown",
   "metadata": {},
   "source": [
    "## Ejercicio: Uso de funciones en Python\n",
    "Ejercicio 1: Trabajar con argumentos en funciones\n",
    "Los argumentos requeridos en las funciones se utilizan cuando las funciones necesitan que esos argumentos funcionen correctamente. En este ejercicio, construirás un informe de combustible que requiere información de varias ubicaciones de combustible en todo el cohete.\n",
    "\n",
    "TIP Dedica unos minutos para tratar de encontrar una solución. Luego desplázate hacia abajo hasta la parte inferior para ver si has logrado compilar el programa de acuerdo con las especificaciones\n",
    "\n",
    "Comienza por crear una función que necesite tres lecturas de combustible y devuelva un informe:"
   ]
  },
  {
   "cell_type": "code",
   "execution_count": 23,
   "metadata": {},
   "outputs": [],
   "source": [
    "# Función para leer 3 tanques de combustible y muestre el promedio\n",
    "\n",
    "def tanques_combu( tanque1, tanque2, tanque3 ):\n",
    "    promedio = (tanque1+tanque2+tanque3)/2\n",
    "    return F\"\"\" {'-'*30}  REPORTE  {'-'*30}\n",
    "    Tanques: {tanque1}, {tanque2}, {tanque3} \n",
    "    Promedio total: {promedio}\n",
    "    {'-'*70}\n",
    "    \"\"\"\n",
    "\n"
   ]
  },
  {
   "cell_type": "markdown",
   "metadata": {},
   "source": [
    "Ahora que hemos definido la función de informes, vamos a comprobarlo. Para esta misión, los tanques no están llenos:"
   ]
  },
  {
   "cell_type": "code",
   "execution_count": 24,
   "metadata": {},
   "outputs": [
    {
     "name": "stdout",
     "output_type": "stream",
     "text": [
      " ------------------------------  REPORTE  ------------------------------\n",
      "    Tanques: 10, 20, 30 \n",
      "    Promedio total: 30.0\n",
      "    ----------------------------------------------------------------------\n",
      "    \n"
     ]
    }
   ],
   "source": [
    "print(tanques_combu(10, 20, 30))"
   ]
  },
  {
   "cell_type": "markdown",
   "metadata": {},
   "source": [
    "En lugar de simplemente crear el informe, la función también está calculando el promedio. Mejora la legibilidad extrayendo el cálculo promedio de la función en una nueva función para que el promedio se pueda hacer de forma independiente:\n"
   ]
  },
  {
   "cell_type": "code",
   "execution_count": 6,
   "metadata": {},
   "outputs": [],
   "source": [
    "def promedio ( tanque1, tanque2, tanque3 ):\n",
    "    promedio = (tanque1+tanque2+tanque3)/2\n",
    "    return promedio"
   ]
  },
  {
   "cell_type": "markdown",
   "metadata": {},
   "source": [
    "Ahora actualiza la función de informes para llamando a la nueva función del promedio:\n"
   ]
  },
  {
   "cell_type": "code",
   "execution_count": 10,
   "metadata": {},
   "outputs": [],
   "source": [
    "def tanques_combu( tanque1, tanque2, tanque3 ):\n",
    "    return F\"\"\" {'-'*30}  REPORTE  {'-'*30}\n",
    "    Tanques: {tanque1}, {tanque2}, {tanque3} \n",
    "    Promedio total: {promedio(tanque1,tanque2,tanque3)}\n",
    "    {'-'*70}\n",
    "    \"\"\""
   ]
  },
  {
   "cell_type": "code",
   "execution_count": 11,
   "metadata": {},
   "outputs": [
    {
     "name": "stdout",
     "output_type": "stream",
     "text": [
      " ------------------------------  REPORTE  ------------------------------\n",
      "    Tanques: 10, 20, 30 \n",
      "    Promedio total: 30.0\n",
      "    ----------------------------------------------------------------------\n",
      "    \n"
     ]
    }
   ],
   "source": [
    "print(tanques_combu(10, 20, 30))"
   ]
  },
  {
   "cell_type": "markdown",
   "metadata": {},
   "source": [
    "## Ejercicio 2: Trabajo con argumentos de palabra clave\n",
    "Ejercicio : Trabajar con argumentos de palabras clave en funciones\n",
    "En este ejercicio, construirás un informe de cohete que requiere varias piezas de información, como el tiempo hasta el destino, el combustible a la izquierda y el nombre del destino. Comienza por crear una función que creará un informe preciso de la misión:\n"
   ]
  },
  {
   "cell_type": "code",
   "execution_count": 28,
   "metadata": {},
   "outputs": [
    {
     "name": "stdout",
     "output_type": "stream",
     "text": [
      " ------------------------------  INFORME  ------------------------------\n",
      "    Hora de prelanzamiento: 10\n",
      "    Tiempo de vuelo: 2\n",
      "    Destino: Marte\n",
      "    Tanque externo: 200\n",
      "    Tanque interno: 500\n",
      "    ----------------------------------------------------------------------\n",
      "    \n"
     ]
    }
   ],
   "source": [
    "# Función con un informe preciso de la misión. Considera hora de prelanzamiento, tiempo de vuelo, destino, tanque externo y tanque interno\n",
    "def informe( horaprelanza, tiempovuelo, destino, tanqueext,tanqueint ):\n",
    "    return F\"\"\" {'-'*30}  INFORME  {'-'*30}\n",
    "    Hora de prelanzamiento: {horaprelanza}\n",
    "    Tiempo de vuelo: {tiempovuelo}\n",
    "    Destino: {destino}\n",
    "    Tanque externo: {tanqueext}\n",
    "    Tanque interno: {tanqueint}\n",
    "    {'-'*70}\n",
    "    \"\"\"\n",
    "\n",
    "print(informe(10, 2, \"Marte\", 200, 500))"
   ]
  },
  {
   "cell_type": "markdown",
   "metadata": {},
   "source": [
    "\n",
    "La función es problemática porque no se puede adaptar para minutos adicionales o tanques adicionales de combustible. Hazlo más flexible permitiendo cualquier número de pasos basados en el tiempo y cualquier número de tanques. En lugar de usar *args y **kwargs, aprovecha el hecho de que puedes usar cualquier nombre que desees. Asegurate que la función sea más legible mediante el uso de nombres de variables que están asociados con las entradas, como *minutes y **fuel_reservoirs:\n"
   ]
  },
  {
   "cell_type": "code",
   "execution_count": 64,
   "metadata": {},
   "outputs": [
    {
     "name": "stdout",
     "output_type": "stream",
     "text": [
      " ------------------------------  INFORME  ------------------------------\n",
      "    Minutos adicionales: 0\n",
      "    Tanques adicionales de combustibles: dict_values([10, 2, 200, 500, 20, 10])\n",
      "    ----------------------------------------------------------------------\n",
      "    \n"
     ]
    }
   ],
   "source": [
    "\n",
    "# Escribe tu nueva función de reporte considerando lo anterior\n",
    "def informe (destino, *minutos, **tanquesadicionales):\n",
    "    \n",
    "    return f\"\"\" {'-'*30}  INFORME  {'-'*30}\n",
    "    Minutos adicionales: {sum(minutos)}\n",
    "    Tanques adicionales de combustibles: {tanquesadicionales.values()}\n",
    "    {'-'*70}\n",
    "    \"\"\"\n",
    "print(informe(horaprelanza=10, tiempovuelo=2, destino = \"Marte\", tanqueext=200, tanqueint=500, minutos=20, tanquesadicionales=10))"
   ]
  },
  {
   "cell_type": "markdown",
   "metadata": {},
   "source": [
    "\n",
    "Debido a que el combustible que queda en los tanques es específico de cada tanque, actualiza la función para usar el nombre de cada tanque en el informe:\n",
    "\n"
   ]
  },
  {
   "cell_type": "code",
   "execution_count": 4,
   "metadata": {},
   "outputs": [
    {
     "name": "stdout",
     "output_type": "stream",
     "text": [
      "tanquesadicionales -  (10, 4, 5, 21) \n",
      "        \n"
     ]
    }
   ],
   "source": [
    "# Escribe tu nueva función\n",
    "def informe (destino, *minutos, **tanquesadicionales):\n",
    "    for i, n in tanquesadicionales.items():\n",
    "        a = f\"\"\"{i} -  {n} \n",
    "        \"\"\"\n",
    "    return a\n",
    "\n",
    "\n",
    "print(informe(horaprelanza=10, tiempovuelo=2, destino = \"Marte\", tanqueext=200, tanqueint=500, minutos=20, tanquesadicionales=(10,4,5,21)))"
   ]
  }
 ],
 "metadata": {
  "interpreter": {
   "hash": "67756c1d511ae706fcde9f70d2b76031d1082b5230beae8b442915152b300555"
  },
  "kernelspec": {
   "display_name": "Python 3.10.2 64-bit",
   "language": "python",
   "name": "python3"
  },
  "language_info": {
   "codemirror_mode": {
    "name": "ipython",
    "version": 3
   },
   "file_extension": ".py",
   "mimetype": "text/x-python",
   "name": "python",
   "nbconvert_exporter": "python",
   "pygments_lexer": "ipython3",
   "version": "3.10.2"
  },
  "orig_nbformat": 4
 },
 "nbformat": 4,
 "nbformat_minor": 2
}
